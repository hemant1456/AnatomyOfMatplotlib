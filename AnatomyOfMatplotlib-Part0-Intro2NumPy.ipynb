{
 "cells": [
  {
   "cell_type": "code",
   "execution_count": 1,
   "metadata": {},
   "outputs": [],
   "source": [
    "# Let printing work the same in Python 2 and 3\n",
    "from __future__ import print_function"
   ]
  },
  {
   "cell_type": "markdown",
   "metadata": {},
   "source": [
    "# NumPy\n",
    "The NumPy package provides the \"ndarray\" object. The NumPy array is used to contain data of uniform type with an arbitrary number of dimensions. NumPy then provides basic mathematical and array methods to lay down the foundation for the entire SciPy ecosystem. The following import statement is the generally accepted convention for NumPy."
   ]
  },
  {
   "cell_type": "code",
   "execution_count": 2,
   "metadata": {},
   "outputs": [],
   "source": [
    "import numpy as np"
   ]
  },
  {
   "cell_type": "markdown",
   "metadata": {},
   "source": [
    "## Array Creation\n",
    "There are several ways to make NumPy arrays. An array has three particular attributes that can be queried: shape, size and the number of dimensions."
   ]
  },
  {
   "cell_type": "code",
   "execution_count": 3,
   "metadata": {},
   "outputs": [
    {
     "name": "stdout",
     "output_type": "stream",
     "text": [
      "(3,)\n",
      "3\n",
      "1\n"
     ]
    }
   ],
   "source": [
    "a = np.array([1, 2, 3])\n",
    "print(a.shape)\n",
    "print(a.size)\n",
    "print(a.ndim)"
   ]
  },
  {
   "cell_type": "code",
   "execution_count": 67,
   "metadata": {},
   "outputs": [
    {
     "name": "stdout",
     "output_type": "stream",
     "text": [
      "(100,)\n",
      "100\n",
      "1\n"
     ]
    }
   ],
   "source": [
    "x = np.arange(100)\n",
    "print(x.shape)\n",
    "print(x.size)\n",
    "print(x.ndim)"
   ]
  },
  {
   "cell_type": "code",
   "execution_count": 68,
   "metadata": {},
   "outputs": [
    {
     "name": "stdout",
     "output_type": "stream",
     "text": [
      "(5, 80)\n",
      "400\n",
      "2\n"
     ]
    }
   ],
   "source": [
    "y = np.random.rand(5, 80)\n",
    "print(y.shape)\n",
    "print(y.size)\n",
    "print(y.ndim)"
   ]
  },
  {
   "cell_type": "markdown",
   "metadata": {},
   "source": [
    "## Array Manipulation\n",
    "How to change the shape of an array without a copy!"
   ]
  },
  {
   "cell_type": "code",
   "execution_count": 69,
   "metadata": {},
   "outputs": [
    {
     "name": "stdout",
     "output_type": "stream",
     "text": [
      "[[ 0  1  2  3  4]\n",
      " [ 5  6  7  8  9]\n",
      " [10 11 12 13 14]\n",
      " [15 16 17 18 19]\n",
      " [20 21 22 23 24]\n",
      " [25 26 27 28 29]\n",
      " [30 31 32 33 34]\n",
      " [35 36 37 38 39]\n",
      " [40 41 42 43 44]\n",
      " [45 46 47 48 49]\n",
      " [50 51 52 53 54]\n",
      " [55 56 57 58 59]\n",
      " [60 61 62 63 64]\n",
      " [65 66 67 68 69]\n",
      " [70 71 72 73 74]\n",
      " [75 76 77 78 79]\n",
      " [80 81 82 83 84]\n",
      " [85 86 87 88 89]\n",
      " [90 91 92 93 94]\n",
      " [95 96 97 98 99]]\n"
     ]
    }
   ],
   "source": [
    "x.shape = (20, 5)\n",
    "print(x)"
   ]
  },
  {
   "cell_type": "markdown",
   "metadata": {},
   "source": [
    "NumPy can even automatically figure out the size of at most one dimension for you."
   ]
  },
  {
   "cell_type": "code",
   "execution_count": 70,
   "metadata": {},
   "outputs": [
    {
     "name": "stdout",
     "output_type": "stream",
     "text": [
      "(4, 20, 5)\n"
     ]
    }
   ],
   "source": [
    "y.shape = (4, 20, -1)\n",
    "print(y.shape)"
   ]
  },
  {
   "cell_type": "markdown",
   "metadata": {},
   "source": [
    "## Array Indexing"
   ]
  },
  {
   "cell_type": "code",
   "execution_count": 71,
   "metadata": {},
   "outputs": [
    {
     "name": "stdout",
     "output_type": "stream",
     "text": [
      "[10 11 12 13 14]\n"
     ]
    }
   ],
   "source": [
    "# Scalar Indexing\n",
    "print(x[2])"
   ]
  },
  {
   "cell_type": "code",
   "execution_count": 72,
   "metadata": {},
   "outputs": [
    {
     "name": "stdout",
     "output_type": "stream",
     "text": [
      "[[10 11 12 13 14]\n",
      " [15 16 17 18 19]\n",
      " [20 21 22 23 24]]\n"
     ]
    }
   ],
   "source": [
    "# Slicing\n",
    "print(x[2:5])"
   ]
  },
  {
   "cell_type": "code",
   "execution_count": 73,
   "metadata": {},
   "outputs": [
    {
     "name": "stdout",
     "output_type": "stream",
     "text": [
      "First 5 rows\n",
      " [[ 0  1  2  3  4]\n",
      " [ 5  6  7  8  9]\n",
      " [10 11 12 13 14]\n",
      " [15 16 17 18 19]\n",
      " [20 21 22 23 24]]\n",
      "Row 18 to the end\n",
      " [[90 91 92 93 94]\n",
      " [95 96 97 98 99]]\n",
      "Last 5 rows\n",
      " [[75 76 77 78 79]\n",
      " [80 81 82 83 84]\n",
      " [85 86 87 88 89]\n",
      " [90 91 92 93 94]\n",
      " [95 96 97 98 99]]\n",
      "Reverse the rows\n",
      " [[95 96 97 98 99]\n",
      " [90 91 92 93 94]\n",
      " [85 86 87 88 89]\n",
      " [80 81 82 83 84]\n",
      " [75 76 77 78 79]\n",
      " [70 71 72 73 74]\n",
      " [65 66 67 68 69]\n",
      " [60 61 62 63 64]\n",
      " [55 56 57 58 59]\n",
      " [50 51 52 53 54]\n",
      " [45 46 47 48 49]\n",
      " [40 41 42 43 44]\n",
      " [35 36 37 38 39]\n",
      " [30 31 32 33 34]\n",
      " [25 26 27 28 29]\n",
      " [20 21 22 23 24]\n",
      " [15 16 17 18 19]\n",
      " [10 11 12 13 14]\n",
      " [ 5  6  7  8  9]\n",
      " [ 0  1  2  3  4]]\n"
     ]
    }
   ],
   "source": [
    "# Advanced slicing\n",
    "print(\"First 5 rows\\n\", x[:5])\n",
    "print(\"Row 18 to the end\\n\", x[18:])\n",
    "print(\"Last 5 rows\\n\", x[-5:])\n",
    "print(\"Reverse the rows\\n\", x[::-1])"
   ]
  },
  {
   "cell_type": "code",
   "execution_count": 74,
   "metadata": {},
   "outputs": [
    {
     "name": "stdout",
     "output_type": "stream",
     "text": [
      "[ 0  2  4  6  8 10 12 14 16 18 20 22 24 26 28 30 32 34 36 38 40 42 44 46 48\n",
      " 50 52 54 56 58 60 62 64 66 68 70 72 74 76 78 80 82 84 86 88 90 92 94 96 98]\n"
     ]
    }
   ],
   "source": [
    "# Boolean Indexing\n",
    "print(x[(x % 2) == 0])"
   ]
  },
  {
   "cell_type": "code",
   "execution_count": 75,
   "metadata": {},
   "outputs": [
    {
     "name": "stdout",
     "output_type": "stream",
     "text": [
      "[[ 5  6  7  8  9]\n",
      " [15 16 17 18 19]\n",
      " [40 41 42 43 44]\n",
      " [45 46 47 48 49]\n",
      " [10 11 12 13 14]]\n"
     ]
    }
   ],
   "source": [
    "# Fancy Indexing -- Note the use of a list, not tuple!\n",
    "print(x[[1, 3, 8, 9, 2]])"
   ]
  },
  {
   "cell_type": "markdown",
   "metadata": {},
   "source": [
    "## Broadcasting\n",
    "Broadcasting is a very useful feature of NumPy that will let arrays with differing shapes still be used together. In most cases, broadcasting is faster, and it is more memory efficient than the equivalent full array operation."
   ]
  },
  {
   "cell_type": "code",
   "execution_count": 76,
   "metadata": {},
   "outputs": [
    {
     "name": "stdout",
     "output_type": "stream",
     "text": [
      "Shape of X: (20, 5)\n",
      "Shape of Y: (4, 20, 5)\n"
     ]
    }
   ],
   "source": [
    "print(\"Shape of X:\", x.shape)\n",
    "print(\"Shape of Y:\", y.shape)"
   ]
  },
  {
   "cell_type": "markdown",
   "metadata": {},
   "source": [
    "Now, here are three identical assignments. The first one takes full advantage of broadcasting by allowing NumPy to automatically add a new dimension to the *left*. The second explicitly adds that dimension with the special NumPy alias \"np.newaxis\". These first two creates a singleton dimension without any new arrays being created. That singleton dimension is then implicitly tiled, much like the third example to match with the RHS of the addition operator. However, unlike the third example, the broadcasting merely re-uses the existing data in memory."
   ]
  },
  {
   "cell_type": "code",
   "execution_count": 77,
   "metadata": {},
   "outputs": [
    {
     "name": "stdout",
     "output_type": "stream",
     "text": [
      "(4, 20, 5)\n",
      "(4, 20, 5)\n",
      "(4, 20, 5)\n",
      "Are a and b identical? True\n",
      "Are a and c identical? True\n"
     ]
    }
   ],
   "source": [
    "a = x + y\n",
    "print(a.shape)\n",
    "b = x[np.newaxis, :, :] + y\n",
    "print(b.shape)\n",
    "c = np.tile(x, (4, 1, 1)) + y\n",
    "print(c.shape)\n",
    "print(\"Are a and b identical?\", np.all(a == b))\n",
    "print(\"Are a and c identical?\", np.all(a == c))"
   ]
  },
  {
   "cell_type": "code",
   "execution_count": 82,
   "metadata": {},
   "outputs": [
    {
     "data": {
      "text/plain": [
       "(1, 1, 20, 5)"
      ]
     },
     "execution_count": 82,
     "metadata": {},
     "output_type": "execute_result"
    }
   ],
   "source": [
    "(x[np.newaxis,:,:]).shape"
   ]
  },
  {
   "cell_type": "code",
   "execution_count": 78,
   "metadata": {},
   "outputs": [],
   "source": [
    "x=(x[np.newaxis,:,:])"
   ]
  },
  {
   "cell_type": "code",
   "execution_count": 81,
   "metadata": {},
   "outputs": [
    {
     "name": "stdout",
     "output_type": "stream",
     "text": [
      "[[ 0.32342156  0.4518721   0.56276958  0.53368813  0.02873749]\n",
      " [ 0.35730422  0.11704151  0.86248976  0.71017458  0.34739867]\n",
      " [ 0.47576251  0.15808962  0.98043509  0.22003678  0.15432289]\n",
      " [ 0.62630933  0.12367225  0.41276031  0.15150229  0.21575382]\n",
      " [ 0.5454484   0.5771462   0.92693684  0.26933453  0.6198413 ]\n",
      " [ 0.80642413  0.46533571  0.3913596   0.40808249  0.59235556]\n",
      " [ 0.69103706  0.32303021  0.85501331  0.54566491  0.00867042]\n",
      " [ 0.53712643  0.17836605  0.77491194  0.74505867  0.32125651]\n",
      " [ 0.83648152  0.55855201  0.08603854  0.81303062  0.80152393]\n",
      " [ 0.41087371  0.45474504  0.04742816  0.17994847  0.25368258]\n",
      " [ 0.53521693  0.91275427  0.96127959  0.70243879  0.45797857]\n",
      " [ 0.16370156  0.73974311  0.59550685  0.89348294  0.59659261]\n",
      " [ 0.10838237  0.44021982  0.22267293  0.68886222  0.65057148]\n",
      " [ 0.56511382  0.72936245  0.70910327  0.28200931  0.74645206]\n",
      " [ 0.83446571  0.28254297  0.74364467  0.18079307  0.93374879]\n",
      " [ 0.32427154  0.2191442   0.83796658  0.35434137  0.22098252]\n",
      " [ 0.42759074  0.80762949  0.8906182   0.76071548  0.44308356]\n",
      " [ 0.92631615  0.02723172  0.52035154  0.68955779  0.25919846]\n",
      " [ 0.66343309  0.72369941  0.3160999   0.0638053   0.72897901]\n",
      " [ 0.52154017  0.06888685  0.83296588  0.36607345  0.65894392]] \n",
      "\n",
      "\n",
      "  [[ 0  1  2  3  4]\n",
      " [ 5  6  7  8  9]\n",
      " [10 11 12 13 14]\n",
      " [15 16 17 18 19]\n",
      " [20 21 22 23 24]\n",
      " [25 26 27 28 29]\n",
      " [30 31 32 33 34]\n",
      " [35 36 37 38 39]\n",
      " [40 41 42 43 44]\n",
      " [45 46 47 48 49]\n",
      " [50 51 52 53 54]\n",
      " [55 56 57 58 59]\n",
      " [60 61 62 63 64]\n",
      " [65 66 67 68 69]\n",
      " [70 71 72 73 74]\n",
      " [75 76 77 78 79]\n",
      " [80 81 82 83 84]\n",
      " [85 86 87 88 89]\n",
      " [90 91 92 93 94]\n",
      " [95 96 97 98 99]] \n",
      "\n",
      "\n",
      " [[  0.32342156   1.4518721    2.56276958   3.53368813   4.02873749]\n",
      " [  5.35730422   6.11704151   7.86248976   8.71017458   9.34739867]\n",
      " [ 10.47576251  11.15808962  12.98043509  13.22003678  14.15432289]\n",
      " [ 15.62630933  16.12367225  17.41276031  18.15150229  19.21575382]\n",
      " [ 20.5454484   21.5771462   22.92693684  23.26933453  24.6198413 ]\n",
      " [ 25.80642413  26.46533571  27.3913596   28.40808249  29.59235556]\n",
      " [ 30.69103706  31.32303021  32.85501331  33.54566491  34.00867042]\n",
      " [ 35.53712643  36.17836605  37.77491194  38.74505867  39.32125651]\n",
      " [ 40.83648152  41.55855201  42.08603854  43.81303062  44.80152393]\n",
      " [ 45.41087371  46.45474504  47.04742816  48.17994847  49.25368258]\n",
      " [ 50.53521693  51.91275427  52.96127959  53.70243879  54.45797857]\n",
      " [ 55.16370156  56.73974311  57.59550685  58.89348294  59.59659261]\n",
      " [ 60.10838237  61.44021982  62.22267293  63.68886222  64.65057148]\n",
      " [ 65.56511382  66.72936245  67.70910327  68.28200931  69.74645206]\n",
      " [ 70.83446571  71.28254297  72.74364467  73.18079307  74.93374879]\n",
      " [ 75.32427154  76.2191442   77.83796658  78.35434137  79.22098252]\n",
      " [ 80.42759074  81.80762949  82.8906182   83.76071548  84.44308356]\n",
      " [ 85.92631615  86.02723172  87.52035154  88.68955779  89.25919846]\n",
      " [ 90.66343309  91.72369941  92.3160999   93.0638053   94.72897901]\n",
      " [ 95.52154017  96.06888685  97.83296588  98.36607345  99.65894392]]\n"
     ]
    }
   ],
   "source": [
    "print(y[1,:,:],\"\\n\\n\\n \",x[0,:,:],\"\\n\\n\\n\",b[1,:,:])"
   ]
  },
  {
   "cell_type": "markdown",
   "metadata": {},
   "source": [
    "# Another example of broadcasting two 1-D arrays to make a 2-D array."
   ]
  },
  {
   "cell_type": "code",
   "execution_count": 35,
   "metadata": {
    "collapsed": true
   },
   "outputs": [],
   "source": [
    "?np.arange"
   ]
  },
  {
   "cell_type": "code",
   "execution_count": 36,
   "metadata": {},
   "outputs": [
    {
     "name": "stdout",
     "output_type": "stream",
     "text": [
      "(100,) (64,)\n",
      "(64, 100)\n"
     ]
    }
   ],
   "source": [
    "x = np.arange(-5, 5, 0.1)\n",
    "y = np.arange(-8, 8, 0.25)\n",
    "print(x.shape, y.shape)\n",
    "z = x[np.newaxis, :] * y[:, np.newaxis]\n",
    "print(z.shape)"
   ]
  },
  {
   "cell_type": "code",
   "execution_count": 41,
   "metadata": {},
   "outputs": [
    {
     "data": {
      "text/plain": [
       "array([[1, 2, 3],\n",
       "       [2, 4, 6]])"
      ]
     },
     "execution_count": 41,
     "metadata": {},
     "output_type": "execute_result"
    }
   ],
   "source": [
    "np.array([[1,2,3]])*np.array([[1],[2]])"
   ]
  },
  {
   "cell_type": "code",
   "execution_count": 38,
   "metadata": {},
   "outputs": [
    {
     "data": {
      "text/plain": [
       "(1, 100)"
      ]
     },
     "execution_count": 38,
     "metadata": {},
     "output_type": "execute_result"
    }
   ],
   "source": [
    "x[np.newaxis, :].shape"
   ]
  },
  {
   "cell_type": "code",
   "execution_count": 42,
   "metadata": {},
   "outputs": [
    {
     "name": "stdout",
     "output_type": "stream",
     "text": [
      "(1, 100) (64, 1)\n",
      "(64, 100)\n"
     ]
    }
   ],
   "source": [
    "# More concisely\n",
    "y, x = np.ogrid[-8:8:0.25, -5:5:0.1]\n",
    "print(x.shape, y.shape)\n",
    "z = x * y\n",
    "print(z.shape)"
   ]
  }
 ],
 "metadata": {
  "kernelspec": {
   "display_name": "Python 3",
   "language": "python",
   "name": "python3"
  },
  "language_info": {
   "codemirror_mode": {
    "name": "ipython",
    "version": 3
   },
   "file_extension": ".py",
   "mimetype": "text/x-python",
   "name": "python",
   "nbconvert_exporter": "python",
   "pygments_lexer": "ipython3",
   "version": "3.5.2"
  }
 },
 "nbformat": 4,
 "nbformat_minor": 1
}
